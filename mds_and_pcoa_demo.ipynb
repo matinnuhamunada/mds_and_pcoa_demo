{
 "cells": [
  {
   "cell_type": "code",
   "execution_count": 1,
   "id": "ae551ed0-7ae1-49ad-bd53-398330336261",
   "metadata": {},
   "outputs": [],
   "source": [
    "library(ggplot2)"
   ]
  },
  {
   "cell_type": "markdown",
   "id": "59391ba9-1165-4ec7-8af3-d897cbe6eb28",
   "metadata": {},
   "source": [
    "In this example, the data is in a matrix called\n",
    "data.matrix\n",
    "columns are individual samples (i.e. cells)\n",
    "rows are measurements taken for all the samples (i.e. genes)\n",
    "Just for the sake of the example, here's some made up data..."
   ]
  },
  {
   "cell_type": "code",
   "execution_count": 2,
   "id": "1628497d-e7bb-425c-8c80-ffcb82525503",
   "metadata": {},
   "outputs": [
    {
     "data": {
      "text/html": [
       "<table class=\"dataframe\">\n",
       "<caption>A matrix: 6 × 10 of type int</caption>\n",
       "<thead>\n",
       "\t<tr><th></th><th scope=col>wt1</th><th scope=col>wt2</th><th scope=col>wt3</th><th scope=col>wt4</th><th scope=col>wt5</th><th scope=col>ko1</th><th scope=col>ko2</th><th scope=col>ko3</th><th scope=col>ko4</th><th scope=col>ko5</th></tr>\n",
       "</thead>\n",
       "<tbody>\n",
       "\t<tr><th scope=row>gene1</th><td>139</td><td>135</td><td>122</td><td>140</td><td>153</td><td>557</td><td>529</td><td>508</td><td>523</td><td>584</td></tr>\n",
       "\t<tr><th scope=row>gene2</th><td>537</td><td>519</td><td>578</td><td>534</td><td>541</td><td>634</td><td>635</td><td>595</td><td>626</td><td>622</td></tr>\n",
       "\t<tr><th scope=row>gene3</th><td>911</td><td>881</td><td>835</td><td>859</td><td>831</td><td>680</td><td>696</td><td>659</td><td>729</td><td>647</td></tr>\n",
       "\t<tr><th scope=row>gene4</th><td>870</td><td>846</td><td>869</td><td>894</td><td>904</td><td>631</td><td>631</td><td>598</td><td>590</td><td>595</td></tr>\n",
       "\t<tr><th scope=row>gene5</th><td>916</td><td>875</td><td>884</td><td>957</td><td>947</td><td>368</td><td>339</td><td>286</td><td>322</td><td>314</td></tr>\n",
       "\t<tr><th scope=row>gene6</th><td>729</td><td>773</td><td>710</td><td>745</td><td>744</td><td> 96</td><td> 99</td><td>105</td><td> 94</td><td> 76</td></tr>\n",
       "</tbody>\n",
       "</table>\n"
      ],
      "text/latex": [
       "A matrix: 6 × 10 of type int\n",
       "\\begin{tabular}{r|llllllllll}\n",
       "  & wt1 & wt2 & wt3 & wt4 & wt5 & ko1 & ko2 & ko3 & ko4 & ko5\\\\\n",
       "\\hline\n",
       "\tgene1 & 139 & 135 & 122 & 140 & 153 & 557 & 529 & 508 & 523 & 584\\\\\n",
       "\tgene2 & 537 & 519 & 578 & 534 & 541 & 634 & 635 & 595 & 626 & 622\\\\\n",
       "\tgene3 & 911 & 881 & 835 & 859 & 831 & 680 & 696 & 659 & 729 & 647\\\\\n",
       "\tgene4 & 870 & 846 & 869 & 894 & 904 & 631 & 631 & 598 & 590 & 595\\\\\n",
       "\tgene5 & 916 & 875 & 884 & 957 & 947 & 368 & 339 & 286 & 322 & 314\\\\\n",
       "\tgene6 & 729 & 773 & 710 & 745 & 744 &  96 &  99 & 105 &  94 &  76\\\\\n",
       "\\end{tabular}\n"
      ],
      "text/markdown": [
       "\n",
       "A matrix: 6 × 10 of type int\n",
       "\n",
       "| <!--/--> | wt1 | wt2 | wt3 | wt4 | wt5 | ko1 | ko2 | ko3 | ko4 | ko5 |\n",
       "|---|---|---|---|---|---|---|---|---|---|---|\n",
       "| gene1 | 139 | 135 | 122 | 140 | 153 | 557 | 529 | 508 | 523 | 584 |\n",
       "| gene2 | 537 | 519 | 578 | 534 | 541 | 634 | 635 | 595 | 626 | 622 |\n",
       "| gene3 | 911 | 881 | 835 | 859 | 831 | 680 | 696 | 659 | 729 | 647 |\n",
       "| gene4 | 870 | 846 | 869 | 894 | 904 | 631 | 631 | 598 | 590 | 595 |\n",
       "| gene5 | 916 | 875 | 884 | 957 | 947 | 368 | 339 | 286 | 322 | 314 |\n",
       "| gene6 | 729 | 773 | 710 | 745 | 744 |  96 |  99 | 105 |  94 |  76 |\n",
       "\n"
      ],
      "text/plain": [
       "      wt1 wt2 wt3 wt4 wt5 ko1 ko2 ko3 ko4 ko5\n",
       "gene1 139 135 122 140 153 557 529 508 523 584\n",
       "gene2 537 519 578 534 541 634 635 595 626 622\n",
       "gene3 911 881 835 859 831 680 696 659 729 647\n",
       "gene4 870 846 869 894 904 631 631 598 590 595\n",
       "gene5 916 875 884 957 947 368 339 286 322 314\n",
       "gene6 729 773 710 745 744  96  99 105  94  76"
      ]
     },
     "metadata": {},
     "output_type": "display_data"
    },
    {
     "data": {
      "text/html": [
       "<style>\n",
       ".list-inline {list-style: none; margin:0; padding: 0}\n",
       ".list-inline>li {display: inline-block}\n",
       ".list-inline>li:not(:last-child)::after {content: \"\\00b7\"; padding: 0 .5ex}\n",
       "</style>\n",
       "<ol class=list-inline><li>100</li><li>10</li></ol>\n"
      ],
      "text/latex": [
       "\\begin{enumerate*}\n",
       "\\item 100\n",
       "\\item 10\n",
       "\\end{enumerate*}\n"
      ],
      "text/markdown": [
       "1. 100\n",
       "2. 10\n",
       "\n",
       "\n"
      ],
      "text/plain": [
       "[1] 100  10"
      ]
     },
     "metadata": {},
     "output_type": "display_data"
    }
   ],
   "source": [
    "data.matrix <- matrix(nrow=100, ncol=10)\n",
    "colnames(data.matrix) <- c(\n",
    "  paste(\"wt\", 1:5, sep=\"\"),\n",
    "  paste(\"ko\", 1:5, sep=\"\"))\n",
    "rownames(data.matrix) <- paste(\"gene\", 1:100, sep=\"\")\n",
    "for (i in 1:100) {\n",
    "  wt.values <- rpois(5, lambda=sample(x=10:1000, size=1))\n",
    "  ko.values <- rpois(5, lambda=sample(x=10:1000, size=1))\n",
    " \n",
    "  data.matrix[i,] <- c(wt.values, ko.values)\n",
    "}\n",
    "head(data.matrix)\n",
    "dim(data.matrix)"
   ]
  },
  {
   "cell_type": "markdown",
   "id": "5f5e6708-7bcd-4313-a433-4e875f8445ac",
   "metadata": {},
   "source": [
    "1) Just for reference, draw a PCA plot using this data..."
   ]
  },
  {
   "cell_type": "code",
   "execution_count": 4,
   "id": "3ffbf613-6432-4c60-85da-432e9f22dd3f",
   "metadata": {},
   "outputs": [
    {
     "data": {
      "text/html": [
       "<style>\n",
       ".list-inline {list-style: none; margin:0; padding: 0}\n",
       ".list-inline>li {display: inline-block}\n",
       ".list-inline>li:not(:last-child)::after {content: \"\\00b7\"; padding: 0 .5ex}\n",
       "</style>\n",
       "<ol class=list-inline><li>92.7</li><li>2.2</li><li>1.4</li><li>1</li><li>0.8</li><li>0.8</li><li>0.6</li><li>0.3</li><li>0.2</li><li>0</li></ol>\n"
      ],
      "text/latex": [
       "\\begin{enumerate*}\n",
       "\\item 92.7\n",
       "\\item 2.2\n",
       "\\item 1.4\n",
       "\\item 1\n",
       "\\item 0.8\n",
       "\\item 0.8\n",
       "\\item 0.6\n",
       "\\item 0.3\n",
       "\\item 0.2\n",
       "\\item 0\n",
       "\\end{enumerate*}\n"
      ],
      "text/markdown": [
       "1. 92.7\n",
       "2. 2.2\n",
       "3. 1.4\n",
       "4. 1\n",
       "5. 0.8\n",
       "6. 0.8\n",
       "7. 0.6\n",
       "8. 0.3\n",
       "9. 0.2\n",
       "10. 0\n",
       "\n",
       "\n"
      ],
      "text/plain": [
       " [1] 92.7  2.2  1.4  1.0  0.8  0.8  0.6  0.3  0.2  0.0"
      ]
     },
     "metadata": {},
     "output_type": "display_data"
    }
   ],
   "source": [
    "pca <- prcomp(t(data.matrix), scale=TRUE, center=TRUE) \n",
    " \n",
    "## calculate the percentage of variation that each PC accounts for...\n",
    "pca.var <- pca$sdev^2\n",
    "pca.var.per <- round(pca.var/sum(pca.var)*100, 1)\n",
    "pca.var.per"
   ]
  },
  {
   "cell_type": "code",
   "execution_count": 5,
   "id": "7c0ba7af-6f86-4441-97fa-7ea2a96f422f",
   "metadata": {},
   "outputs": [
    {
     "data": {
      "text/html": [
       "<table class=\"dataframe\">\n",
       "<caption>A data.frame: 10 × 3</caption>\n",
       "<thead>\n",
       "\t<tr><th></th><th scope=col>Sample</th><th scope=col>X</th><th scope=col>Y</th></tr>\n",
       "\t<tr><th></th><th scope=col>&lt;chr&gt;</th><th scope=col>&lt;dbl&gt;</th><th scope=col>&lt;dbl&gt;</th></tr>\n",
       "</thead>\n",
       "<tbody>\n",
       "\t<tr><th scope=row>wt1</th><td>wt1</td><td>-9.170997</td><td> 0.10041281</td></tr>\n",
       "\t<tr><th scope=row>wt2</th><td>wt2</td><td>-8.955393</td><td>-2.51859882</td></tr>\n",
       "\t<tr><th scope=row>wt3</th><td>wt3</td><td>-8.995888</td><td> 2.79341399</td></tr>\n",
       "\t<tr><th scope=row>wt4</th><td>wt4</td><td>-9.373221</td><td>-1.64257226</td></tr>\n",
       "\t<tr><th scope=row>wt5</th><td>wt5</td><td>-9.174920</td><td> 1.28411775</td></tr>\n",
       "\t<tr><th scope=row>ko1</th><td>ko1</td><td> 9.026183</td><td> 0.16602563</td></tr>\n",
       "\t<tr><th scope=row>ko2</th><td>ko2</td><td> 9.077194</td><td>-0.30081008</td></tr>\n",
       "\t<tr><th scope=row>ko3</th><td>ko3</td><td> 9.222161</td><td>-0.02229356</td></tr>\n",
       "\t<tr><th scope=row>ko4</th><td>ko4</td><td> 9.195327</td><td> 0.75096751</td></tr>\n",
       "\t<tr><th scope=row>ko5</th><td>ko5</td><td> 9.149554</td><td>-0.61066297</td></tr>\n",
       "</tbody>\n",
       "</table>\n"
      ],
      "text/latex": [
       "A data.frame: 10 × 3\n",
       "\\begin{tabular}{r|lll}\n",
       "  & Sample & X & Y\\\\\n",
       "  & <chr> & <dbl> & <dbl>\\\\\n",
       "\\hline\n",
       "\twt1 & wt1 & -9.170997 &  0.10041281\\\\\n",
       "\twt2 & wt2 & -8.955393 & -2.51859882\\\\\n",
       "\twt3 & wt3 & -8.995888 &  2.79341399\\\\\n",
       "\twt4 & wt4 & -9.373221 & -1.64257226\\\\\n",
       "\twt5 & wt5 & -9.174920 &  1.28411775\\\\\n",
       "\tko1 & ko1 &  9.026183 &  0.16602563\\\\\n",
       "\tko2 & ko2 &  9.077194 & -0.30081008\\\\\n",
       "\tko3 & ko3 &  9.222161 & -0.02229356\\\\\n",
       "\tko4 & ko4 &  9.195327 &  0.75096751\\\\\n",
       "\tko5 & ko5 &  9.149554 & -0.61066297\\\\\n",
       "\\end{tabular}\n"
      ],
      "text/markdown": [
       "\n",
       "A data.frame: 10 × 3\n",
       "\n",
       "| <!--/--> | Sample &lt;chr&gt; | X &lt;dbl&gt; | Y &lt;dbl&gt; |\n",
       "|---|---|---|---|\n",
       "| wt1 | wt1 | -9.170997 |  0.10041281 |\n",
       "| wt2 | wt2 | -8.955393 | -2.51859882 |\n",
       "| wt3 | wt3 | -8.995888 |  2.79341399 |\n",
       "| wt4 | wt4 | -9.373221 | -1.64257226 |\n",
       "| wt5 | wt5 | -9.174920 |  1.28411775 |\n",
       "| ko1 | ko1 |  9.026183 |  0.16602563 |\n",
       "| ko2 | ko2 |  9.077194 | -0.30081008 |\n",
       "| ko3 | ko3 |  9.222161 | -0.02229356 |\n",
       "| ko4 | ko4 |  9.195327 |  0.75096751 |\n",
       "| ko5 | ko5 |  9.149554 | -0.61066297 |\n",
       "\n"
      ],
      "text/plain": [
       "    Sample X         Y          \n",
       "wt1 wt1    -9.170997  0.10041281\n",
       "wt2 wt2    -8.955393 -2.51859882\n",
       "wt3 wt3    -8.995888  2.79341399\n",
       "wt4 wt4    -9.373221 -1.64257226\n",
       "wt5 wt5    -9.174920  1.28411775\n",
       "ko1 ko1     9.026183  0.16602563\n",
       "ko2 ko2     9.077194 -0.30081008\n",
       "ko3 ko3     9.222161 -0.02229356\n",
       "ko4 ko4     9.195327  0.75096751\n",
       "ko5 ko5     9.149554 -0.61066297"
      ]
     },
     "metadata": {},
     "output_type": "display_data"
    }
   ],
   "source": [
    "## now make a fancy looking plot that shows the PCs and the variation:\n",
    "pca.data <- data.frame(Sample=rownames(pca$x),\n",
    "  X=pca$x[,1],\n",
    "  Y=pca$x[,2])\n",
    "pca.data"
   ]
  },
  {
   "cell_type": "code",
   "execution_count": 6,
   "id": "37e5e0aa-ffb8-4be9-b98c-61abfde4533e",
   "metadata": {},
   "outputs": [
    {
     "data": {
      "image/png": "[encoded data removed]",
      "text/plain": [
       "plot without title"
      ]
     },
     "metadata": {
      "image/png": {
       "height": 420,
       "width": 420
      }
     },
     "output_type": "display_data"
    }
   ],
   "source": [
    "ggplot(data=pca.data, aes(x=X, y=Y, label=Sample)) +\n",
    "  geom_text() +\n",
    "  xlab(paste(\"PC1 - \", pca.var.per[1], \"%\", sep=\"\")) +\n",
    "  ylab(paste(\"PC2 - \", pca.var.per[2], \"%\", sep=\"\")) +\n",
    "  theme_bw() +\n",
    "  ggtitle(\"PCA Graph\")"
   ]
  },
  {
   "cell_type": "markdown",
   "id": "6ff2ef7f-4c4b-4b15-8989-c8859b792a16",
   "metadata": {},
   "source": [
    "2) Now draw an MDS plot using the same data and the Euclidean\n",
    "distance. This graph should look the same as the PCA plot"
   ]
  },
  {
   "cell_type": "code",
   "execution_count": 7,
   "id": "92fedde2-1362-4e8f-8056-99beae13aa94",
   "metadata": {},
   "outputs": [
    {
     "data": {
      "text/html": [
       "<style>\n",
       ".list-inline {list-style: none; margin:0; padding: 0}\n",
       ".list-inline>li {display: inline-block}\n",
       ".list-inline>li:not(:last-child)::after {content: \"\\00b7\"; padding: 0 .5ex}\n",
       "</style>\n",
       "<ol class=list-inline><li>92.7</li><li>2.2</li><li>1.4</li><li>1</li><li>0.8</li><li>0.8</li><li>0.6</li><li>0.3</li><li>0.2</li><li>0</li></ol>\n"
      ],
      "text/latex": [
       "\\begin{enumerate*}\n",
       "\\item 92.7\n",
       "\\item 2.2\n",
       "\\item 1.4\n",
       "\\item 1\n",
       "\\item 0.8\n",
       "\\item 0.8\n",
       "\\item 0.6\n",
       "\\item 0.3\n",
       "\\item 0.2\n",
       "\\item 0\n",
       "\\end{enumerate*}\n"
      ],
      "text/markdown": [
       "1. 92.7\n",
       "2. 2.2\n",
       "3. 1.4\n",
       "4. 1\n",
       "5. 0.8\n",
       "6. 0.8\n",
       "7. 0.6\n",
       "8. 0.3\n",
       "9. 0.2\n",
       "10. 0\n",
       "\n",
       "\n"
      ],
      "text/plain": [
       " [1] 92.7  2.2  1.4  1.0  0.8  0.8  0.6  0.3  0.2  0.0"
      ]
     },
     "metadata": {},
     "output_type": "display_data"
    }
   ],
   "source": [
    "## first, calculate the distance matrix using the Euclidian distance.\n",
    "## NOTE: We are transposing, scaling and centering the data just like PCA.\n",
    "distance.matrix <- dist(scale(t(data.matrix), center=TRUE, scale=TRUE),\n",
    "  method=\"euclidean\")\n",
    " \n",
    "## do the MDS math (this is basically eigen value decomposition)\n",
    "mds.stuff <- cmdscale(distance.matrix, eig=TRUE, x.ret=TRUE)\n",
    " \n",
    "## calculate the percentage of variation that each MDS axis accounts for...\n",
    "mds.var.per <- round(mds.stuff$eig/sum(mds.stuff$eig)*100, 1)\n",
    "mds.var.per"
   ]
  },
  {
   "cell_type": "code",
   "execution_count": 8,
   "id": "81f1aba7-c6df-4568-9841-9f5c74ca0a35",
   "metadata": {},
   "outputs": [
    {
     "data": {
      "text/html": [
       "<table class=\"dataframe\">\n",
       "<caption>A data.frame: 10 × 3</caption>\n",
       "<thead>\n",
       "\t<tr><th></th><th scope=col>Sample</th><th scope=col>X</th><th scope=col>Y</th></tr>\n",
       "\t<tr><th></th><th scope=col>&lt;chr&gt;</th><th scope=col>&lt;dbl&gt;</th><th scope=col>&lt;dbl&gt;</th></tr>\n",
       "</thead>\n",
       "<tbody>\n",
       "\t<tr><th scope=row>wt1</th><td>wt1</td><td>-9.170997</td><td>-0.10041281</td></tr>\n",
       "\t<tr><th scope=row>wt2</th><td>wt2</td><td>-8.955393</td><td> 2.51859882</td></tr>\n",
       "\t<tr><th scope=row>wt3</th><td>wt3</td><td>-8.995888</td><td>-2.79341399</td></tr>\n",
       "\t<tr><th scope=row>wt4</th><td>wt4</td><td>-9.373221</td><td> 1.64257226</td></tr>\n",
       "\t<tr><th scope=row>wt5</th><td>wt5</td><td>-9.174920</td><td>-1.28411775</td></tr>\n",
       "\t<tr><th scope=row>ko1</th><td>ko1</td><td> 9.026183</td><td>-0.16602563</td></tr>\n",
       "\t<tr><th scope=row>ko2</th><td>ko2</td><td> 9.077194</td><td> 0.30081008</td></tr>\n",
       "\t<tr><th scope=row>ko3</th><td>ko3</td><td> 9.222161</td><td> 0.02229356</td></tr>\n",
       "\t<tr><th scope=row>ko4</th><td>ko4</td><td> 9.195327</td><td>-0.75096751</td></tr>\n",
       "\t<tr><th scope=row>ko5</th><td>ko5</td><td> 9.149554</td><td> 0.61066297</td></tr>\n",
       "</tbody>\n",
       "</table>\n"
      ],
      "text/latex": [
       "A data.frame: 10 × 3\n",
       "\\begin{tabular}{r|lll}\n",
       "  & Sample & X & Y\\\\\n",
       "  & <chr> & <dbl> & <dbl>\\\\\n",
       "\\hline\n",
       "\twt1 & wt1 & -9.170997 & -0.10041281\\\\\n",
       "\twt2 & wt2 & -8.955393 &  2.51859882\\\\\n",
       "\twt3 & wt3 & -8.995888 & -2.79341399\\\\\n",
       "\twt4 & wt4 & -9.373221 &  1.64257226\\\\\n",
       "\twt5 & wt5 & -9.174920 & -1.28411775\\\\\n",
       "\tko1 & ko1 &  9.026183 & -0.16602563\\\\\n",
       "\tko2 & ko2 &  9.077194 &  0.30081008\\\\\n",
       "\tko3 & ko3 &  9.222161 &  0.02229356\\\\\n",
       "\tko4 & ko4 &  9.195327 & -0.75096751\\\\\n",
       "\tko5 & ko5 &  9.149554 &  0.61066297\\\\\n",
       "\\end{tabular}\n"
      ],
      "text/markdown": [
       "\n",
       "A data.frame: 10 × 3\n",
       "\n",
       "| <!--/--> | Sample &lt;chr&gt; | X &lt;dbl&gt; | Y &lt;dbl&gt; |\n",
       "|---|---|---|---|\n",
       "| wt1 | wt1 | -9.170997 | -0.10041281 |\n",
       "| wt2 | wt2 | -8.955393 |  2.51859882 |\n",
       "| wt3 | wt3 | -8.995888 | -2.79341399 |\n",
       "| wt4 | wt4 | -9.373221 |  1.64257226 |\n",
       "| wt5 | wt5 | -9.174920 | -1.28411775 |\n",
       "| ko1 | ko1 |  9.026183 | -0.16602563 |\n",
       "| ko2 | ko2 |  9.077194 |  0.30081008 |\n",
       "| ko3 | ko3 |  9.222161 |  0.02229356 |\n",
       "| ko4 | ko4 |  9.195327 | -0.75096751 |\n",
       "| ko5 | ko5 |  9.149554 |  0.61066297 |\n",
       "\n"
      ],
      "text/plain": [
       "    Sample X         Y          \n",
       "wt1 wt1    -9.170997 -0.10041281\n",
       "wt2 wt2    -8.955393  2.51859882\n",
       "wt3 wt3    -8.995888 -2.79341399\n",
       "wt4 wt4    -9.373221  1.64257226\n",
       "wt5 wt5    -9.174920 -1.28411775\n",
       "ko1 ko1     9.026183 -0.16602563\n",
       "ko2 ko2     9.077194  0.30081008\n",
       "ko3 ko3     9.222161  0.02229356\n",
       "ko4 ko4     9.195327 -0.75096751\n",
       "ko5 ko5     9.149554  0.61066297"
      ]
     },
     "metadata": {},
     "output_type": "display_data"
    }
   ],
   "source": [
    "## now make a fancy looking plot that shows the MDS axes and the variation:\n",
    "mds.values <- mds.stuff$points\n",
    "mds.data <- data.frame(Sample=rownames(mds.values),\n",
    "  X=mds.values[,1],\n",
    "  Y=mds.values[,2])\n",
    "mds.data"
   ]
  },
  {
   "cell_type": "code",
   "execution_count": 9,
   "id": "08897bd2-b557-4c8e-8c52-ab494849e41b",
   "metadata": {},
   "outputs": [
    {
     "data": {
      "image/png": "[encoded data removed]",
      "text/plain": [
       "plot without title"
      ]
     },
     "metadata": {
      "image/png": {
       "height": 420,
       "width": 420
      }
     },
     "output_type": "display_data"
    }
   ],
   "source": [
    "ggplot(data=mds.data, aes(x=X, y=Y, label=Sample)) +\n",
    "  geom_text() +\n",
    "  theme_bw() +\n",
    "  xlab(paste(\"MDS1 - \", mds.var.per[1], \"%\", sep=\"\")) +\n",
    "  ylab(paste(\"MDS2 - \", mds.var.per[2], \"%\", sep=\"\")) +\n",
    "  ggtitle(\"MDS plot using Euclidean distance\")"
   ]
  },
  {
   "cell_type": "markdown",
   "id": "6b890f51-d9f9-4c94-abac-5c016e107774",
   "metadata": {},
   "source": [
    "3) Now draw an MDS plot using the same data and the average log(fold change)\n",
    "    This graph should look different than the first two"
   ]
  },
  {
   "cell_type": "code",
   "execution_count": 10,
   "id": "839f135c-9404-4045-97a1-886e2bfefff5",
   "metadata": {},
   "outputs": [
    {
     "data": {
      "text/html": [
       "<table class=\"dataframe\">\n",
       "<caption>A matrix: 10 × 10 of type dbl</caption>\n",
       "<thead>\n",
       "\t<tr><th></th><th scope=col>wt1</th><th scope=col>wt2</th><th scope=col>wt3</th><th scope=col>wt4</th><th scope=col>wt5</th><th scope=col>ko1</th><th scope=col>ko2</th><th scope=col>ko3</th><th scope=col>ko4</th><th scope=col>ko5</th></tr>\n",
       "</thead>\n",
       "<tbody>\n",
       "\t<tr><th scope=row>wt1</th><td>0</td><td>0</td><td>0</td><td>0</td><td>0</td><td>0</td><td>0</td><td>0</td><td>0</td><td>0</td></tr>\n",
       "\t<tr><th scope=row>wt2</th><td>0</td><td>0</td><td>0</td><td>0</td><td>0</td><td>0</td><td>0</td><td>0</td><td>0</td><td>0</td></tr>\n",
       "\t<tr><th scope=row>wt3</th><td>0</td><td>0</td><td>0</td><td>0</td><td>0</td><td>0</td><td>0</td><td>0</td><td>0</td><td>0</td></tr>\n",
       "\t<tr><th scope=row>wt4</th><td>0</td><td>0</td><td>0</td><td>0</td><td>0</td><td>0</td><td>0</td><td>0</td><td>0</td><td>0</td></tr>\n",
       "\t<tr><th scope=row>wt5</th><td>0</td><td>0</td><td>0</td><td>0</td><td>0</td><td>0</td><td>0</td><td>0</td><td>0</td><td>0</td></tr>\n",
       "\t<tr><th scope=row>ko1</th><td>0</td><td>0</td><td>0</td><td>0</td><td>0</td><td>0</td><td>0</td><td>0</td><td>0</td><td>0</td></tr>\n",
       "\t<tr><th scope=row>ko2</th><td>0</td><td>0</td><td>0</td><td>0</td><td>0</td><td>0</td><td>0</td><td>0</td><td>0</td><td>0</td></tr>\n",
       "\t<tr><th scope=row>ko3</th><td>0</td><td>0</td><td>0</td><td>0</td><td>0</td><td>0</td><td>0</td><td>0</td><td>0</td><td>0</td></tr>\n",
       "\t<tr><th scope=row>ko4</th><td>0</td><td>0</td><td>0</td><td>0</td><td>0</td><td>0</td><td>0</td><td>0</td><td>0</td><td>0</td></tr>\n",
       "\t<tr><th scope=row>ko5</th><td>0</td><td>0</td><td>0</td><td>0</td><td>0</td><td>0</td><td>0</td><td>0</td><td>0</td><td>0</td></tr>\n",
       "</tbody>\n",
       "</table>\n"
      ],
      "text/latex": [
       "A matrix: 10 × 10 of type dbl\n",
       "\\begin{tabular}{r|llllllllll}\n",
       "  & wt1 & wt2 & wt3 & wt4 & wt5 & ko1 & ko2 & ko3 & ko4 & ko5\\\\\n",
       "\\hline\n",
       "\twt1 & 0 & 0 & 0 & 0 & 0 & 0 & 0 & 0 & 0 & 0\\\\\n",
       "\twt2 & 0 & 0 & 0 & 0 & 0 & 0 & 0 & 0 & 0 & 0\\\\\n",
       "\twt3 & 0 & 0 & 0 & 0 & 0 & 0 & 0 & 0 & 0 & 0\\\\\n",
       "\twt4 & 0 & 0 & 0 & 0 & 0 & 0 & 0 & 0 & 0 & 0\\\\\n",
       "\twt5 & 0 & 0 & 0 & 0 & 0 & 0 & 0 & 0 & 0 & 0\\\\\n",
       "\tko1 & 0 & 0 & 0 & 0 & 0 & 0 & 0 & 0 & 0 & 0\\\\\n",
       "\tko2 & 0 & 0 & 0 & 0 & 0 & 0 & 0 & 0 & 0 & 0\\\\\n",
       "\tko3 & 0 & 0 & 0 & 0 & 0 & 0 & 0 & 0 & 0 & 0\\\\\n",
       "\tko4 & 0 & 0 & 0 & 0 & 0 & 0 & 0 & 0 & 0 & 0\\\\\n",
       "\tko5 & 0 & 0 & 0 & 0 & 0 & 0 & 0 & 0 & 0 & 0\\\\\n",
       "\\end{tabular}\n"
      ],
      "text/markdown": [
       "\n",
       "A matrix: 10 × 10 of type dbl\n",
       "\n",
       "| <!--/--> | wt1 | wt2 | wt3 | wt4 | wt5 | ko1 | ko2 | ko3 | ko4 | ko5 |\n",
       "|---|---|---|---|---|---|---|---|---|---|---|\n",
       "| wt1 | 0 | 0 | 0 | 0 | 0 | 0 | 0 | 0 | 0 | 0 |\n",
       "| wt2 | 0 | 0 | 0 | 0 | 0 | 0 | 0 | 0 | 0 | 0 |\n",
       "| wt3 | 0 | 0 | 0 | 0 | 0 | 0 | 0 | 0 | 0 | 0 |\n",
       "| wt4 | 0 | 0 | 0 | 0 | 0 | 0 | 0 | 0 | 0 | 0 |\n",
       "| wt5 | 0 | 0 | 0 | 0 | 0 | 0 | 0 | 0 | 0 | 0 |\n",
       "| ko1 | 0 | 0 | 0 | 0 | 0 | 0 | 0 | 0 | 0 | 0 |\n",
       "| ko2 | 0 | 0 | 0 | 0 | 0 | 0 | 0 | 0 | 0 | 0 |\n",
       "| ko3 | 0 | 0 | 0 | 0 | 0 | 0 | 0 | 0 | 0 | 0 |\n",
       "| ko4 | 0 | 0 | 0 | 0 | 0 | 0 | 0 | 0 | 0 | 0 |\n",
       "| ko5 | 0 | 0 | 0 | 0 | 0 | 0 | 0 | 0 | 0 | 0 |\n",
       "\n"
      ],
      "text/plain": [
       "    wt1 wt2 wt3 wt4 wt5 ko1 ko2 ko3 ko4 ko5\n",
       "wt1 0   0   0   0   0   0   0   0   0   0  \n",
       "wt2 0   0   0   0   0   0   0   0   0   0  \n",
       "wt3 0   0   0   0   0   0   0   0   0   0  \n",
       "wt4 0   0   0   0   0   0   0   0   0   0  \n",
       "wt5 0   0   0   0   0   0   0   0   0   0  \n",
       "ko1 0   0   0   0   0   0   0   0   0   0  \n",
       "ko2 0   0   0   0   0   0   0   0   0   0  \n",
       "ko3 0   0   0   0   0   0   0   0   0   0  \n",
       "ko4 0   0   0   0   0   0   0   0   0   0  \n",
       "ko5 0   0   0   0   0   0   0   0   0   0  "
      ]
     },
     "metadata": {},
     "output_type": "display_data"
    }
   ],
   "source": [
    "## first, take the log2 of all the values in the data.matrix.\n",
    "## This makes it easy to compute log2(Fold Change) between a gene in two\n",
    "## samples since...\n",
    "##\n",
    "## log2(Fold Change) = log2(value for sample 1) - log2(value for sample 2)\n",
    "##\n",
    "log2.data.matrix <- log2(data.matrix)\n",
    " \n",
    "## now create an empty distance matrix\n",
    "log2.distance.matrix <- matrix(0,\n",
    "  nrow=ncol(log2.data.matrix),\n",
    "  ncol=ncol(log2.data.matrix),\n",
    "  dimnames=list(colnames(log2.data.matrix),\n",
    "    colnames(log2.data.matrix)))\n",
    " \n",
    "log2.distance.matrix"
   ]
  },
  {
   "cell_type": "code",
   "execution_count": 11,
   "id": "6ea706f0-4a22-47b0-9fe7-207e5cba9735",
   "metadata": {},
   "outputs": [
    {
     "data": {
      "text/html": [
       "<table class=\"dataframe\">\n",
       "<caption>A matrix: 10 × 10 of type dbl</caption>\n",
       "<thead>\n",
       "\t<tr><th></th><th scope=col>wt1</th><th scope=col>wt2</th><th scope=col>wt3</th><th scope=col>wt4</th><th scope=col>wt5</th><th scope=col>ko1</th><th scope=col>ko2</th><th scope=col>ko3</th><th scope=col>ko4</th><th scope=col>ko5</th></tr>\n",
       "</thead>\n",
       "<tbody>\n",
       "\t<tr><th scope=row>wt1</th><td>0.00000000</td><td>0.00000000</td><td>0.0000000</td><td>0.00000000</td><td>0.000000</td><td>0.00000000</td><td>0.00000000</td><td>0.00000000</td><td>0.0000000</td><td>0</td></tr>\n",
       "\t<tr><th scope=row>wt2</th><td>0.09382106</td><td>0.00000000</td><td>0.0000000</td><td>0.00000000</td><td>0.000000</td><td>0.00000000</td><td>0.00000000</td><td>0.00000000</td><td>0.0000000</td><td>0</td></tr>\n",
       "\t<tr><th scope=row>wt3</th><td>0.09656254</td><td>0.09664691</td><td>0.0000000</td><td>0.00000000</td><td>0.000000</td><td>0.00000000</td><td>0.00000000</td><td>0.00000000</td><td>0.0000000</td><td>0</td></tr>\n",
       "\t<tr><th scope=row>wt4</th><td>0.09736014</td><td>0.08143137</td><td>0.1032533</td><td>0.00000000</td><td>0.000000</td><td>0.00000000</td><td>0.00000000</td><td>0.00000000</td><td>0.0000000</td><td>0</td></tr>\n",
       "\t<tr><th scope=row>wt5</th><td>0.10254200</td><td>0.08661738</td><td>0.1028129</td><td>0.09555864</td><td>0.000000</td><td>0.00000000</td><td>0.00000000</td><td>0.00000000</td><td>0.0000000</td><td>0</td></tr>\n",
       "\t<tr><th scope=row>ko1</th><td>1.50231509</td><td>1.50489206</td><td>1.5028889</td><td>1.51362921</td><td>1.515239</td><td>0.00000000</td><td>0.00000000</td><td>0.00000000</td><td>0.0000000</td><td>0</td></tr>\n",
       "\t<tr><th scope=row>ko2</th><td>1.49990490</td><td>1.49914569</td><td>1.4994419</td><td>1.51079037</td><td>1.512828</td><td>0.08284420</td><td>0.00000000</td><td>0.00000000</td><td>0.0000000</td><td>0</td></tr>\n",
       "\t<tr><th scope=row>ko3</th><td>1.49891927</td><td>1.49895860</td><td>1.4981188</td><td>1.50961380</td><td>1.511843</td><td>0.09421208</td><td>0.08177973</td><td>0.00000000</td><td>0.0000000</td><td>0</td></tr>\n",
       "\t<tr><th scope=row>ko4</th><td>1.52164909</td><td>1.52244092</td><td>1.5213908</td><td>1.53326083</td><td>1.532943</td><td>0.09826479</td><td>0.09889608</td><td>0.09288674</td><td>0.0000000</td><td>0</td></tr>\n",
       "\t<tr><th scope=row>ko5</th><td>1.52138391</td><td>1.52054532</td><td>1.5216459</td><td>1.53207297</td><td>1.532265</td><td>0.08348075</td><td>0.10133760</td><td>0.09967702</td><td>0.1015758</td><td>0</td></tr>\n",
       "</tbody>\n",
       "</table>\n"
      ],
      "text/latex": [
       "A matrix: 10 × 10 of type dbl\n",
       "\\begin{tabular}{r|llllllllll}\n",
       "  & wt1 & wt2 & wt3 & wt4 & wt5 & ko1 & ko2 & ko3 & ko4 & ko5\\\\\n",
       "\\hline\n",
       "\twt1 & 0.00000000 & 0.00000000 & 0.0000000 & 0.00000000 & 0.000000 & 0.00000000 & 0.00000000 & 0.00000000 & 0.0000000 & 0\\\\\n",
       "\twt2 & 0.09382106 & 0.00000000 & 0.0000000 & 0.00000000 & 0.000000 & 0.00000000 & 0.00000000 & 0.00000000 & 0.0000000 & 0\\\\\n",
       "\twt3 & 0.09656254 & 0.09664691 & 0.0000000 & 0.00000000 & 0.000000 & 0.00000000 & 0.00000000 & 0.00000000 & 0.0000000 & 0\\\\\n",
       "\twt4 & 0.09736014 & 0.08143137 & 0.1032533 & 0.00000000 & 0.000000 & 0.00000000 & 0.00000000 & 0.00000000 & 0.0000000 & 0\\\\\n",
       "\twt5 & 0.10254200 & 0.08661738 & 0.1028129 & 0.09555864 & 0.000000 & 0.00000000 & 0.00000000 & 0.00000000 & 0.0000000 & 0\\\\\n",
       "\tko1 & 1.50231509 & 1.50489206 & 1.5028889 & 1.51362921 & 1.515239 & 0.00000000 & 0.00000000 & 0.00000000 & 0.0000000 & 0\\\\\n",
       "\tko2 & 1.49990490 & 1.49914569 & 1.4994419 & 1.51079037 & 1.512828 & 0.08284420 & 0.00000000 & 0.00000000 & 0.0000000 & 0\\\\\n",
       "\tko3 & 1.49891927 & 1.49895860 & 1.4981188 & 1.50961380 & 1.511843 & 0.09421208 & 0.08177973 & 0.00000000 & 0.0000000 & 0\\\\\n",
       "\tko4 & 1.52164909 & 1.52244092 & 1.5213908 & 1.53326083 & 1.532943 & 0.09826479 & 0.09889608 & 0.09288674 & 0.0000000 & 0\\\\\n",
       "\tko5 & 1.52138391 & 1.52054532 & 1.5216459 & 1.53207297 & 1.532265 & 0.08348075 & 0.10133760 & 0.09967702 & 0.1015758 & 0\\\\\n",
       "\\end{tabular}\n"
      ],
      "text/markdown": [
       "\n",
       "A matrix: 10 × 10 of type dbl\n",
       "\n",
       "| <!--/--> | wt1 | wt2 | wt3 | wt4 | wt5 | ko1 | ko2 | ko3 | ko4 | ko5 |\n",
       "|---|---|---|---|---|---|---|---|---|---|---|\n",
       "| wt1 | 0.00000000 | 0.00000000 | 0.0000000 | 0.00000000 | 0.000000 | 0.00000000 | 0.00000000 | 0.00000000 | 0.0000000 | 0 |\n",
       "| wt2 | 0.09382106 | 0.00000000 | 0.0000000 | 0.00000000 | 0.000000 | 0.00000000 | 0.00000000 | 0.00000000 | 0.0000000 | 0 |\n",
       "| wt3 | 0.09656254 | 0.09664691 | 0.0000000 | 0.00000000 | 0.000000 | 0.00000000 | 0.00000000 | 0.00000000 | 0.0000000 | 0 |\n",
       "| wt4 | 0.09736014 | 0.08143137 | 0.1032533 | 0.00000000 | 0.000000 | 0.00000000 | 0.00000000 | 0.00000000 | 0.0000000 | 0 |\n",
       "| wt5 | 0.10254200 | 0.08661738 | 0.1028129 | 0.09555864 | 0.000000 | 0.00000000 | 0.00000000 | 0.00000000 | 0.0000000 | 0 |\n",
       "| ko1 | 1.50231509 | 1.50489206 | 1.5028889 | 1.51362921 | 1.515239 | 0.00000000 | 0.00000000 | 0.00000000 | 0.0000000 | 0 |\n",
       "| ko2 | 1.49990490 | 1.49914569 | 1.4994419 | 1.51079037 | 1.512828 | 0.08284420 | 0.00000000 | 0.00000000 | 0.0000000 | 0 |\n",
       "| ko3 | 1.49891927 | 1.49895860 | 1.4981188 | 1.50961380 | 1.511843 | 0.09421208 | 0.08177973 | 0.00000000 | 0.0000000 | 0 |\n",
       "| ko4 | 1.52164909 | 1.52244092 | 1.5213908 | 1.53326083 | 1.532943 | 0.09826479 | 0.09889608 | 0.09288674 | 0.0000000 | 0 |\n",
       "| ko5 | 1.52138391 | 1.52054532 | 1.5216459 | 1.53207297 | 1.532265 | 0.08348075 | 0.10133760 | 0.09967702 | 0.1015758 | 0 |\n",
       "\n"
      ],
      "text/plain": [
       "    wt1        wt2        wt3       wt4        wt5      ko1        ko2       \n",
       "wt1 0.00000000 0.00000000 0.0000000 0.00000000 0.000000 0.00000000 0.00000000\n",
       "wt2 0.09382106 0.00000000 0.0000000 0.00000000 0.000000 0.00000000 0.00000000\n",
       "wt3 0.09656254 0.09664691 0.0000000 0.00000000 0.000000 0.00000000 0.00000000\n",
       "wt4 0.09736014 0.08143137 0.1032533 0.00000000 0.000000 0.00000000 0.00000000\n",
       "wt5 0.10254200 0.08661738 0.1028129 0.09555864 0.000000 0.00000000 0.00000000\n",
       "ko1 1.50231509 1.50489206 1.5028889 1.51362921 1.515239 0.00000000 0.00000000\n",
       "ko2 1.49990490 1.49914569 1.4994419 1.51079037 1.512828 0.08284420 0.00000000\n",
       "ko3 1.49891927 1.49895860 1.4981188 1.50961380 1.511843 0.09421208 0.08177973\n",
       "ko4 1.52164909 1.52244092 1.5213908 1.53326083 1.532943 0.09826479 0.09889608\n",
       "ko5 1.52138391 1.52054532 1.5216459 1.53207297 1.532265 0.08348075 0.10133760\n",
       "    ko3        ko4       ko5\n",
       "wt1 0.00000000 0.0000000 0  \n",
       "wt2 0.00000000 0.0000000 0  \n",
       "wt3 0.00000000 0.0000000 0  \n",
       "wt4 0.00000000 0.0000000 0  \n",
       "wt5 0.00000000 0.0000000 0  \n",
       "ko1 0.00000000 0.0000000 0  \n",
       "ko2 0.00000000 0.0000000 0  \n",
       "ko3 0.00000000 0.0000000 0  \n",
       "ko4 0.09288674 0.0000000 0  \n",
       "ko5 0.09967702 0.1015758 0  "
      ]
     },
     "metadata": {},
     "output_type": "display_data"
    }
   ],
   "source": [
    "## now compute the distance matrix using avg(absolute value(log2(FC)))\n",
    "for(i in 1:ncol(log2.distance.matrix)) {\n",
    "  for(j in 1:i) {\n",
    "    log2.distance.matrix[i, j] <-\n",
    "      mean(abs(log2.data.matrix[,i] - log2.data.matrix[,j]))\n",
    "  }\n",
    "}\n",
    "log2.distance.matrix"
   ]
  },
  {
   "cell_type": "code",
   "execution_count": 12,
   "id": "56a818de-dca8-44b2-9646-413559aa1449",
   "metadata": {},
   "outputs": [
    {
     "data": {
      "text/html": [
       "<style>\n",
       ".list-inline {list-style: none; margin:0; padding: 0}\n",
       ".list-inline>li {display: inline-block}\n",
       ".list-inline>li:not(:last-child)::after {content: \"\\00b7\"; padding: 0 .5ex}\n",
       "</style>\n",
       "<ol class=list-inline><li>99.4</li><li>0.1</li><li>0.1</li><li>0.1</li><li>0.1</li><li>0.1</li><li>0.1</li><li>0</li><li>0</li><li>0</li></ol>\n"
      ],
      "text/latex": [
       "\\begin{enumerate*}\n",
       "\\item 99.4\n",
       "\\item 0.1\n",
       "\\item 0.1\n",
       "\\item 0.1\n",
       "\\item 0.1\n",
       "\\item 0.1\n",
       "\\item 0.1\n",
       "\\item 0\n",
       "\\item 0\n",
       "\\item 0\n",
       "\\end{enumerate*}\n"
      ],
      "text/markdown": [
       "1. 99.4\n",
       "2. 0.1\n",
       "3. 0.1\n",
       "4. 0.1\n",
       "5. 0.1\n",
       "6. 0.1\n",
       "7. 0.1\n",
       "8. 0\n",
       "9. 0\n",
       "10. 0\n",
       "\n",
       "\n"
      ],
      "text/plain": [
       " [1] 99.4  0.1  0.1  0.1  0.1  0.1  0.1  0.0  0.0  0.0"
      ]
     },
     "metadata": {},
     "output_type": "display_data"
    }
   ],
   "source": [
    "## do the MDS math (this is basically eigen value decomposition)\n",
    "## cmdscale() is the function for \"Classical Multi-Dimensional Scalign\"\n",
    "mds.stuff <- cmdscale(as.dist(log2.distance.matrix),\n",
    "  eig=TRUE,\n",
    "  x.ret=TRUE)\n",
    " \n",
    "## calculate the percentage of variation that each MDS axis accounts for...\n",
    "mds.var.per <- round(mds.stuff$eig/sum(mds.stuff$eig)*100, 1)\n",
    "mds.var.per"
   ]
  },
  {
   "cell_type": "code",
   "execution_count": 13,
   "id": "4ee1146c-f170-470d-888c-d3cc8e5c4c88",
   "metadata": {},
   "outputs": [
    {
     "data": {
      "text/html": [
       "<table class=\"dataframe\">\n",
       "<caption>A data.frame: 10 × 3</caption>\n",
       "<thead>\n",
       "\t<tr><th></th><th scope=col>Sample</th><th scope=col>X</th><th scope=col>Y</th></tr>\n",
       "\t<tr><th></th><th scope=col>&lt;chr&gt;</th><th scope=col>&lt;dbl&gt;</th><th scope=col>&lt;dbl&gt;</th></tr>\n",
       "</thead>\n",
       "<tbody>\n",
       "\t<tr><th scope=row>wt1</th><td>wt1</td><td>-0.7508039</td><td> 0.016654978</td></tr>\n",
       "\t<tr><th scope=row>wt2</th><td>wt2</td><td>-0.7515532</td><td>-0.006367852</td></tr>\n",
       "\t<tr><th scope=row>wt3</th><td>wt3</td><td>-0.7505522</td><td> 0.037932517</td></tr>\n",
       "\t<tr><th scope=row>wt4</th><td>wt4</td><td>-0.7620250</td><td> 0.001045066</td></tr>\n",
       "\t<tr><th scope=row>wt5</th><td>wt5</td><td>-0.7630430</td><td>-0.049669796</td></tr>\n",
       "\t<tr><th scope=row>ko1</th><td>ko1</td><td> 0.7500131</td><td>-0.001265257</td></tr>\n",
       "\t<tr><th scope=row>ko2</th><td>ko2</td><td> 0.7465712</td><td> 0.027461508</td></tr>\n",
       "\t<tr><th scope=row>ko3</th><td>ko3</td><td> 0.7456102</td><td> 0.030310009</td></tr>\n",
       "\t<tr><th scope=row>ko4</th><td>ko4</td><td> 0.7682438</td><td>-0.010327747</td></tr>\n",
       "\t<tr><th scope=row>ko5</th><td>ko5</td><td> 0.7675389</td><td>-0.045773424</td></tr>\n",
       "</tbody>\n",
       "</table>\n"
      ],
      "text/latex": [
       "A data.frame: 10 × 3\n",
       "\\begin{tabular}{r|lll}\n",
       "  & Sample & X & Y\\\\\n",
       "  & <chr> & <dbl> & <dbl>\\\\\n",
       "\\hline\n",
       "\twt1 & wt1 & -0.7508039 &  0.016654978\\\\\n",
       "\twt2 & wt2 & -0.7515532 & -0.006367852\\\\\n",
       "\twt3 & wt3 & -0.7505522 &  0.037932517\\\\\n",
       "\twt4 & wt4 & -0.7620250 &  0.001045066\\\\\n",
       "\twt5 & wt5 & -0.7630430 & -0.049669796\\\\\n",
       "\tko1 & ko1 &  0.7500131 & -0.001265257\\\\\n",
       "\tko2 & ko2 &  0.7465712 &  0.027461508\\\\\n",
       "\tko3 & ko3 &  0.7456102 &  0.030310009\\\\\n",
       "\tko4 & ko4 &  0.7682438 & -0.010327747\\\\\n",
       "\tko5 & ko5 &  0.7675389 & -0.045773424\\\\\n",
       "\\end{tabular}\n"
      ],
      "text/markdown": [
       "\n",
       "A data.frame: 10 × 3\n",
       "\n",
       "| <!--/--> | Sample &lt;chr&gt; | X &lt;dbl&gt; | Y &lt;dbl&gt; |\n",
       "|---|---|---|---|\n",
       "| wt1 | wt1 | -0.7508039 |  0.016654978 |\n",
       "| wt2 | wt2 | -0.7515532 | -0.006367852 |\n",
       "| wt3 | wt3 | -0.7505522 |  0.037932517 |\n",
       "| wt4 | wt4 | -0.7620250 |  0.001045066 |\n",
       "| wt5 | wt5 | -0.7630430 | -0.049669796 |\n",
       "| ko1 | ko1 |  0.7500131 | -0.001265257 |\n",
       "| ko2 | ko2 |  0.7465712 |  0.027461508 |\n",
       "| ko3 | ko3 |  0.7456102 |  0.030310009 |\n",
       "| ko4 | ko4 |  0.7682438 | -0.010327747 |\n",
       "| ko5 | ko5 |  0.7675389 | -0.045773424 |\n",
       "\n"
      ],
      "text/plain": [
       "    Sample X          Y           \n",
       "wt1 wt1    -0.7508039  0.016654978\n",
       "wt2 wt2    -0.7515532 -0.006367852\n",
       "wt3 wt3    -0.7505522  0.037932517\n",
       "wt4 wt4    -0.7620250  0.001045066\n",
       "wt5 wt5    -0.7630430 -0.049669796\n",
       "ko1 ko1     0.7500131 -0.001265257\n",
       "ko2 ko2     0.7465712  0.027461508\n",
       "ko3 ko3     0.7456102  0.030310009\n",
       "ko4 ko4     0.7682438 -0.010327747\n",
       "ko5 ko5     0.7675389 -0.045773424"
      ]
     },
     "metadata": {},
     "output_type": "display_data"
    }
   ],
   "source": [
    "## now make a fancy looking plot that shows the MDS axes and the variation:\n",
    "mds.values <- mds.stuff$points\n",
    "mds.data <- data.frame(Sample=rownames(mds.values),\n",
    "  X=mds.values[,1],\n",
    "  Y=mds.values[,2])\n",
    "mds.data"
   ]
  },
  {
   "cell_type": "code",
   "execution_count": 14,
   "id": "d4d40580-e351-4c12-a96b-46d07e9b868d",
   "metadata": {},
   "outputs": [
    {
     "data": {
      "image/png": "[encoded data removed]",
      "text/plain": [
       "plot without title"
      ]
     },
     "metadata": {
      "image/png": {
       "height": 420,
       "width": 420
      }
     },
     "output_type": "display_data"
    }
   ],
   "source": [
    "ggplot(data=mds.data, aes(x=X, y=Y, label=Sample)) +\n",
    "  geom_text() +\n",
    "  theme_bw() +\n",
    "  xlab(paste(\"MDS1 - \", mds.var.per[1], \"%\", sep=\"\")) +\n",
    "  ylab(paste(\"MDS2 - \", mds.var.per[2], \"%\", sep=\"\")) +\n",
    "  ggtitle(\"MDS plot using avg(logFC) as the distance\")\n"
   ]
  }
 ],
 "metadata": {
  "kernelspec": {
   "display_name": "R",
   "language": "R",
   "name": "ir"
  },
  "language_info": {
   "codemirror_mode": "r",
   "file_extension": ".r",
   "mimetype": "text/x-r-source",
   "name": "R",
   "pygments_lexer": "r",
   "version": "4.2.2"
  }
 },
 "nbformat": 4,
 "nbformat_minor": 5
}
